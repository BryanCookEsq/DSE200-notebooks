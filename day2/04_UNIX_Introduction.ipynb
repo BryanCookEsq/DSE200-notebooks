{
 "cells": [
  {
   "cell_type": "markdown",
   "metadata": {
    "slideshow": {
     "slide_type": "slide"
    }
   },
   "source": [
    "# UNIX Commands for Data Scientists"
   ]
  },
  {
   "cell_type": "markdown",
   "metadata": {
    "slideshow": {
     "slide_type": "slide"
    }
   },
   "source": [
    "## How to execute the commands\n",
    "\n",
    "**Windows**: you need to open Git Bash and paste the command into the terminal, either using the mouse right click or right clicking on the top window border and select edit -> paste.\n",
    "\n",
    "**Mac OS**/**Linux**: you can choose to either execute commands through this Jupyter Notebook or copy paste them into a terminal."
   ]
  },
  {
   "cell_type": "markdown",
   "metadata": {
    "slideshow": {
     "slide_type": "slide"
    }
   },
   "source": [
    "## Check file path\n",
    "\n",
    "List contents of a directory."
   ]
  },
  {
   "cell_type": "code",
   "execution_count": 2,
   "metadata": {
    "slideshow": {
     "slide_type": "-"
    }
   },
   "outputs": [
    {
     "name": "stdout",
     "output_type": "stream",
     "text": [
      "Icon?           fruits.txt      shakespeare.txt\r\n"
     ]
    }
   ],
   "source": [
    "!ls ./unix"
   ]
  },
  {
   "cell_type": "markdown",
   "metadata": {
    "slideshow": {
     "slide_type": "slide"
    }
   },
   "source": [
    "## Declare Filename\n",
    "\n",
    "Create a variable to hold the filename of the text file.\n",
    "\n",
    "This is the only case where the syntax is different in the Jupyter Notebook and running directly in the shell.\n",
    "\n",
    "In the Notebook, each command is run on a separate shell process therefore we need to store `filename` in an enviromental variable, which is a way to set a persistent variable. This is performed using the `%env` IPython Magic function, execute `%env?` to learn more."
   ]
  },
  {
   "cell_type": "code",
   "execution_count": 3,
   "metadata": {
    "slideshow": {
     "slide_type": "-"
    }
   },
   "outputs": [
    {
     "name": "stdout",
     "output_type": "stream",
     "text": [
      "env: filename=./unix/shakespeare.txt\n"
     ]
    }
   ],
   "source": [
    "%env filename=./unix/shakespeare.txt"
   ]
  },
  {
   "cell_type": "markdown",
   "metadata": {
    "slideshow": {
     "slide_type": "-"
    }
   },
   "source": [
    "If you are instead running in a shell, you can just define a shell variable named filename with this syntax:\n",
    "\n",
    "    filename=./unix/shakespeare.txt\n",
    "    \n",
    "Make sure that there are **no spaces** around the equal sign."
   ]
  },
  {
   "cell_type": "markdown",
   "metadata": {
    "slideshow": {
     "slide_type": "slide"
    }
   },
   "source": [
    "## Verify the variable is created\n",
    "\n",
    "We can verify that the variable is now defined by printing it out with `echo`. For the rest of this reading we will use this variable to point to the filename."
   ]
  },
  {
   "cell_type": "code",
   "execution_count": 4,
   "metadata": {
    "slideshow": {
     "slide_type": "-"
    }
   },
   "outputs": [
    {
     "name": "stdout",
     "output_type": "stream",
     "text": [
      "./unix/shakespeare.txt\r\n"
     ]
    }
   ],
   "source": [
    "!echo $filename"
   ]
  },
  {
   "cell_type": "markdown",
   "metadata": {
    "slideshow": {
     "slide_type": "slide"
    }
   },
   "source": [
    "## head\n",
    "\n",
    "`head` prints some lines from the top of the file, you can specify how many with `-n`, what happens if you don't specify a number of lines?"
   ]
  },
  {
   "cell_type": "code",
   "execution_count": 5,
   "metadata": {
    "slideshow": {
     "slide_type": "fragment"
    }
   },
   "outputs": [
    {
     "name": "stdout",
     "output_type": "stream",
     "text": [
      "This is the 100th Etext file presented by Project Gutenberg, and\r",
      "\r\n",
      "is presented in cooperation with World Library, Inc., from their\r",
      "\r\n",
      "Library of the Future and Shakespeare CDROMS.  Project Gutenberg\r",
      "\r\n"
     ]
    }
   ],
   "source": [
    "!head -n 3 $filename"
   ]
  },
  {
   "cell_type": "markdown",
   "metadata": {
    "slideshow": {
     "slide_type": "slide"
    }
   },
   "source": [
    "## tail\n",
    "\n",
    "`tail` prints some lines from the bottom of the file, you can specify how many with `-n`."
   ]
  },
  {
   "cell_type": "code",
   "execution_count": 6,
   "metadata": {
    "slideshow": {
     "slide_type": "fragment"
    }
   },
   "outputs": [
    {
     "name": "stdout",
     "output_type": "stream",
     "text": [
      "PERSONAL USE ONLY, AND (2) ARE NOT DISTRIBUTED OR USED\r",
      "\r\n",
      "COMMERCIALLY.  PROHIBITED COMMERCIAL DISTRIBUTION INCLUDES BY ANY\r",
      "\r\n",
      "SERVICE THAT CHARGES FOR DOWNLOAD TIME OR FOR MEMBERSHIP.>>\r",
      "\r\n",
      "\r",
      "\r\n",
      "\r",
      "\r\n",
      "\r",
      "\r\n",
      "End of this Etext of The Complete Works of William Shakespeare\r",
      "\r\n",
      "\r",
      "\r\n",
      "\r",
      "\r\n",
      "\r",
      "\r\n"
     ]
    }
   ],
   "source": [
    "!tail -n 10 $filename"
   ]
  },
  {
   "cell_type": "markdown",
   "metadata": {
    "slideshow": {
     "slide_type": "slide"
    }
   },
   "source": [
    "## wc\n",
    "\n",
    "`wc`, which stands for wordcount, prints the number of lines, words and characters:"
   ]
  },
  {
   "cell_type": "code",
   "execution_count": 7,
   "metadata": {
    "slideshow": {
     "slide_type": "fragment"
    }
   },
   "outputs": [
    {
     "name": "stdout",
     "output_type": "stream",
     "text": [
      "  124505  901447 5583442 ./unix/shakespeare.txt\r\n"
     ]
    }
   ],
   "source": [
    "!wc $filename"
   ]
  },
  {
   "cell_type": "markdown",
   "metadata": {
    "slideshow": {
     "slide_type": "slide"
    }
   },
   "source": [
    "## wc\n",
    "\n",
    "specify `-l` to only print the number of lines. Execute (in Git Bash on Windows or on Linux):\n",
    "\n",
    "    wc --help\n",
    "    \n",
    "or (on Mac or on Linux):\n",
    "\n",
    "    man wc\n",
    "        \n",
    "to find out how to print only words instead. Or guess!"
   ]
  },
  {
   "cell_type": "code",
   "execution_count": 8,
   "metadata": {
    "slideshow": {
     "slide_type": "fragment"
    }
   },
   "outputs": [
    {
     "name": "stdout",
     "output_type": "stream",
     "text": [
      "  124505 ./unix/shakespeare.txt\r\n"
     ]
    }
   ],
   "source": [
    "!wc -l $filename"
   ]
  },
  {
   "cell_type": "markdown",
   "metadata": {
    "slideshow": {
     "slide_type": "slide"
    }
   },
   "source": [
    "## cat\n",
    "\n",
    "You can use pipes with `|` to stream the output of a command to the input of another, this is useful to compone many tools together to achieve a more complicated output.\n",
    "\n",
    "For example `cat` dumps the content of a file, then we can pipe it to `wc`:"
   ]
  },
  {
   "cell_type": "code",
   "execution_count": 9,
   "metadata": {
    "slideshow": {
     "slide_type": "fragment"
    }
   },
   "outputs": [
    {
     "name": "stdout",
     "output_type": "stream",
     "text": [
      "  124505\r\n"
     ]
    }
   ],
   "source": [
    "!cat $filename | wc -l "
   ]
  },
  {
   "cell_type": "markdown",
   "metadata": {
    "slideshow": {
     "slide_type": "slide"
    }
   },
   "source": [
    "## grep\n",
    "\n",
    "`grep` is an extremely powerful tool to look for text in one or more files. For example in the next command we are looking for all the lines that contain a word, we also specify with `-i` that we are interested in case insensitive matching, i.e. don't care about case."
   ]
  },
  {
   "cell_type": "code",
   "execution_count": 10,
   "metadata": {
    "slideshow": {
     "slide_type": "fragment"
    }
   },
   "outputs": [
    {
     "name": "stdout",
     "output_type": "stream",
     "text": [
      "  If the skin were parchment, and the blows you gave were ink,\n",
      "  Ham. Is not parchment made of sheepskins?\n",
      "    of the skin of an innocent lamb should be made parchment? That\n",
      "    parchment, being scribbl'd o'er, should undo a man? Some say the\n",
      "    Upon a parchment, and against this fire\n",
      "    But here's a parchment with the seal of Caesar;  \n",
      "    With inky blots and rotten parchment bonds;\n",
      "    Nor brass, nor stone, nor parchment, bears not one,\n"
     ]
    }
   ],
   "source": [
    "!grep -i 'parchment' $filename"
   ]
  },
  {
   "cell_type": "markdown",
   "metadata": {
    "slideshow": {
     "slide_type": "slide"
    }
   },
   "source": [
    "## grep\n",
    "\n",
    "We can combine `grep` and `wc` to count the number of lines in a file that contain a specific word: "
   ]
  },
  {
   "cell_type": "code",
   "execution_count": 11,
   "metadata": {
    "slideshow": {
     "slide_type": "fragment"
    }
   },
   "outputs": [
    {
     "name": "stdout",
     "output_type": "stream",
     "text": [
      "      72\r\n"
     ]
    }
   ],
   "source": [
    "!grep -i 'liberty' $filename | wc -l"
   ]
  },
  {
   "cell_type": "markdown",
   "metadata": {
    "slideshow": {
     "slide_type": "slide"
    }
   },
   "source": [
    "## sed\n",
    "\n",
    "`sed` is a powerful stream editor, it works similarly to `grep`, but it also modifies the output text, it uses regular expressions, which are a language to define pattern matching and replacement."
   ]
  },
  {
   "cell_type": "markdown",
   "metadata": {
    "slideshow": {
     "slide_type": "slide"
    }
   },
   "source": [
    "### sed\n",
    "\n",
    "For example:\n",
    "\n",
    "    s/from/to/g\n",
    "    \n",
    "means:\n",
    "\n",
    "* `s` for substitution\n",
    "* `from` is the word to match\n",
    "* `to` is the replacement string\n",
    "* `g` specifies to apply this to all occurrences on a line, not just the first\n",
    "\n",
    "In the following we are replacing all instances of 'parchment' to 'manuscript'\n",
    "\n",
    "Also we are redirecting the output to a file with `>`. Therefore the output instead of being printed to screen is saved in the text file `temp.txt`."
   ]
  },
  {
   "cell_type": "markdown",
   "metadata": {
    "slideshow": {
     "slide_type": "slide"
    }
   },
   "source": [
    "## sed"
   ]
  },
  {
   "cell_type": "code",
   "execution_count": 12,
   "metadata": {
    "slideshow": {
     "slide_type": "fragment"
    }
   },
   "outputs": [],
   "source": [
    "#replace all instances of 'parchment' to 'manuscript'\n",
    "\n",
    "!sed -e 's/parchment/manuscript/g' $filename > temp.txt"
   ]
  },
  {
   "cell_type": "markdown",
   "metadata": {
    "slideshow": {
     "slide_type": "-"
    }
   },
   "source": [
    "Then we are checking with `grep` that `temp.txt` contains the word \"manuscript\":"
   ]
  },
  {
   "cell_type": "code",
   "execution_count": 13,
   "metadata": {
    "scrolled": true,
    "slideshow": {
     "slide_type": "fragment"
    }
   },
   "outputs": [
    {
     "name": "stdout",
     "output_type": "stream",
     "text": [
      "  If the skin were manuscript, and the blows you gave were ink,\n",
      "  Ham. Is not manuscript made of sheepskins?\n",
      "    of the skin of an innocent lamb should be made manuscript? That\n",
      "    manuscript, being scribbl'd o'er, should undo a man? Some say the\n",
      "    Upon a manuscript, and against this fire\n",
      "    But here's a manuscript with the seal of Caesar;  \n",
      "    With inky blots and rotten manuscript bonds;\n",
      "    Nor brass, nor stone, nor manuscript, bears not one,\n"
     ]
    }
   ],
   "source": [
    "!grep -i 'manuscript' temp.txt "
   ]
  },
  {
   "cell_type": "markdown",
   "metadata": {
    "slideshow": {
     "slide_type": "slide"
    }
   },
   "source": [
    "## sort"
   ]
  },
  {
   "cell_type": "code",
   "execution_count": 14,
   "metadata": {
    "slideshow": {
     "slide_type": "-"
    }
   },
   "outputs": [
    {
     "name": "stdout",
     "output_type": "stream",
     "text": [
      "This is the 100th Etext file presented by Project Gutenberg, and\r",
      "\r\n",
      "is presented in cooperation with World Library, Inc., from their\r",
      "\r\n",
      "Library of the Future and Shakespeare CDROMS.  Project Gutenberg\r",
      "\r\n",
      "often releases Etexts that are NOT placed in the Public Domain!!\r",
      "\r\n",
      "\r",
      "\r\n"
     ]
    }
   ],
   "source": [
    "!head -n 5 $filename"
   ]
  },
  {
   "cell_type": "markdown",
   "metadata": {
    "slideshow": {
     "slide_type": "-"
    }
   },
   "source": [
    "We can sort in alphabetical order the first 5 lines in the file, see that we are just ordering by the first letter in each line:"
   ]
  },
  {
   "cell_type": "code",
   "execution_count": 15,
   "metadata": {
    "slideshow": {
     "slide_type": "-"
    }
   },
   "outputs": [
    {
     "name": "stdout",
     "output_type": "stream",
     "text": [
      "\r",
      "\r\n",
      "Library of the Future and Shakespeare CDROMS.  Project Gutenberg\r",
      "\r\n",
      "This is the 100th Etext file presented by Project Gutenberg, and\r",
      "\r\n",
      "is presented in cooperation with World Library, Inc., from their\r",
      "\r\n",
      "often releases Etexts that are NOT placed in the Public Domain!!\r",
      "\r\n"
     ]
    }
   ],
   "source": [
    "!head -n 5 $filename | sort"
   ]
  },
  {
   "cell_type": "markdown",
   "metadata": {
    "slideshow": {
     "slide_type": "slide"
    }
   },
   "source": [
    "## sort\n",
    "\n",
    "We can specify that we would like to sort on the second word of each line, we specify that the delimiter is space with `-t' '` and then specify we want to sort on column 2 `-k2`.\n",
    "\n",
    "Therefore we are sorting on \"is, of, presented, releases\""
   ]
  },
  {
   "cell_type": "code",
   "execution_count": 16,
   "metadata": {
    "slideshow": {
     "slide_type": "fragment"
    }
   },
   "outputs": [
    {
     "name": "stdout",
     "output_type": "stream",
     "text": [
      "\r",
      "\r\n",
      "This is the 100th Etext file presented by Project Gutenberg, and\r",
      "\r\n",
      "Library of the Future and Shakespeare CDROMS.  Project Gutenberg\r",
      "\r\n",
      "is presented in cooperation with World Library, Inc., from their\r",
      "\r\n",
      "often releases Etexts that are NOT placed in the Public Domain!!\r",
      "\r\n"
     ]
    }
   ],
   "source": [
    "!head -n 5 $filename | sort -t' ' -k2"
   ]
  },
  {
   "cell_type": "markdown",
   "metadata": {
    "slideshow": {
     "slide_type": "slide"
    }
   },
   "source": [
    "## uniq\n",
    "\n",
    "`sort` is often used in combination with `uniq` to remove duplicated lines.\n",
    "\n",
    "`uniq -u` eliminates duplicated lines, but they need to be consecutive, therefore we first use `sort` to have equal lines consecutive and then we can filter them out easily with `uniq`:"
   ]
  },
  {
   "cell_type": "code",
   "execution_count": 17,
   "metadata": {
    "slideshow": {
     "slide_type": "fragment"
    }
   },
   "outputs": [
    {
     "name": "stdout",
     "output_type": "stream",
     "text": [
      "  124505\r\n"
     ]
    }
   ],
   "source": [
    "!sort $filename | wc -l"
   ]
  },
  {
   "cell_type": "code",
   "execution_count": 18,
   "metadata": {
    "slideshow": {
     "slide_type": "fragment"
    }
   },
   "outputs": [
    {
     "name": "stdout",
     "output_type": "stream",
     "text": [
      "  110834\r\n"
     ]
    }
   ],
   "source": [
    "!sort $filename | uniq -u | wc -l"
   ]
  }
 ],
 "metadata": {
  "celltoolbar": "Slideshow",
  "kernelspec": {
   "display_name": "Python 3",
   "language": "python",
   "name": "python3"
  },
  "language_info": {
   "codemirror_mode": {
    "name": "ipython",
    "version": 3
   },
   "file_extension": ".py",
   "mimetype": "text/x-python",
   "name": "python",
   "nbconvert_exporter": "python",
   "pygments_lexer": "ipython3",
   "version": "3.6.5"
  }
 },
 "nbformat": 4,
 "nbformat_minor": 2
}
