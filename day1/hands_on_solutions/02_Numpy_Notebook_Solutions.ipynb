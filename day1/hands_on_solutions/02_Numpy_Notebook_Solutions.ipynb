{
 "cells": [
  {
   "cell_type": "markdown",
   "metadata": {},
   "source": [
    "### Hands-on Exercise 1: Get portion of numpy array\n",
    "In the cell below, modify the function to RETURN elements occuring in first two rows and 2nd-3rd columns"
   ]
  },
  {
   "cell_type": "code",
   "execution_count": null,
   "metadata": {},
   "outputs": [],
   "source": [
    "def find_slice(matx):\n",
    "    return matx[:2, 1:3]"
   ]
  },
  {
   "cell_type": "markdown",
   "metadata": {},
   "source": [
    "### Hands-on Exercise 2: Update portion of numpy array\n",
    "\n",
    "In the cell below, modify the function to perform in-place addition of 1000 to every element of slice you just created and RETURN the changed version"
   ]
  },
  {
   "cell_type": "code",
   "execution_count": 1,
   "metadata": {},
   "outputs": [],
   "source": [
    "def update_slice(matx):\n",
    "    matx[:2, 1:3] += 1000\n",
    "    return matx"
   ]
  },
  {
   "cell_type": "markdown",
   "metadata": {},
   "source": [
    "### Hands-on Exercise 3: Filter numpy array\n",
    "\n",
    "In the cell below, modify the function to RETURN elements of matrix that are greater than 1"
   ]
  },
  {
   "cell_type": "code",
   "execution_count": 2,
   "metadata": {},
   "outputs": [],
   "source": [
    "def bool_filter(matx):\n",
    "    return matx[matx > 1]"
   ]
  },
  {
   "cell_type": "markdown",
   "metadata": {},
   "source": [
    "### Hands-on Exercise 4: Int Converter\n",
    "\n",
    "In the cell below, modify the function to convert each element of entered matrix to np.int data type AND return a new matrix with converted data type (i.e. full of integers)"
   ]
  },
  {
   "cell_type": "code",
   "execution_count": 3,
   "metadata": {},
   "outputs": [],
   "source": [
    "def int_converter(matx):\n",
    "    return np.array(matx, dtype=np.int)"
   ]
  },
  {
   "cell_type": "markdown",
   "metadata": {},
   "source": [
    "### Hands-on Exercise 5: More Filtering\n",
    "\n",
    "In the cell below, modify the function to perform inplace update of input matrix such that\n",
    "each element that is negative is replaced with 0. <br> Note that the function does not return anything but changes the matrix inplace."
   ]
  },
  {
   "cell_type": "code",
   "execution_count": 4,
   "metadata": {},
   "outputs": [],
   "source": [
    "def selective_replace(matx):\n",
    "    matx[matx < 0] = 0"
   ]
  },
  {
   "cell_type": "markdown",
   "metadata": {},
   "source": [
    "### Hands-on Exercise 6: Broadcasting  \n",
    "\n",
    "add first row to every row of the input matrix\n",
    "\n",
    "In the cell below, modify the function to RETURN a new matrix by taking first row of the input matrix and adding it to every row of entered matrix.\n",
    "\n",
    "So if the input matrix is:\n",
    "2, 3\n",
    "1, 4\n",
    "\n",
    "The output should be:\n",
    "4, 6\n",
    "3, 7\n",
    "\n",
    "See how the first row (2,3) was added to itself and all subsequent rows."
   ]
  },
  {
   "cell_type": "code",
   "execution_count": 5,
   "metadata": {},
   "outputs": [],
   "source": [
    "def first_row_adder(matx):\n",
    "    return matx + matx[0,:]"
   ]
  }
 ],
 "metadata": {
  "kernelspec": {
   "display_name": "Python 3",
   "language": "python",
   "name": "python3"
  },
  "language_info": {
   "codemirror_mode": {
    "name": "ipython",
    "version": 3
   },
   "file_extension": ".py",
   "mimetype": "text/x-python",
   "name": "python",
   "nbconvert_exporter": "python",
   "pygments_lexer": "ipython3",
   "version": "3.6.5"
  }
 },
 "nbformat": 4,
 "nbformat_minor": 2
}
