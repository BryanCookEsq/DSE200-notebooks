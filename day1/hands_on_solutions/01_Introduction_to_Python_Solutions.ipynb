{
 "cells": [
  {
   "cell_type": "markdown",
   "metadata": {},
   "source": [
    "### Hands-on 1\n",
    "\n",
    "**Write a code to print \"Hello, (your_name)!\"**\n",
    "1. Ask the user to input their name by printing \"Please enter your name: \"\n",
    "2. Store the input in a variable 'name'\n",
    "3. Print \"Hello 'name' !\""
   ]
  },
  {
   "cell_type": "code",
   "execution_count": 1,
   "metadata": {},
   "outputs": [
    {
     "name": "stdout",
     "output_type": "stream",
     "text": [
      "Please enter your name: dylan\n",
      "Hello dylan !\n"
     ]
    }
   ],
   "source": [
    "name = input(\"Please enter your name: \")\n",
    "print (\"Hello\", name, \"!\")"
   ]
  },
  {
   "cell_type": "markdown",
   "metadata": {},
   "source": [
    "### Hands-on 2\n",
    "\n",
    "**Initialize int and float variables**\n",
    "1. Initialize a variable PA (principle amount) with value 100\n",
    "2. Convert the above to type float and print\n",
    "3. Initialize a variable roi with value 10.5\n",
    "4. Print the data type of the same\n",
    "3. Initialize a variable years with value 2\n",
    "4. Print the data type of the same"
   ]
  },
  {
   "cell_type": "code",
   "execution_count": 3,
   "metadata": {},
   "outputs": [
    {
     "name": "stdout",
     "output_type": "stream",
     "text": [
      "The principal amount is: 100.0\n",
      "The data type of ROI is: <class 'float'>\n",
      "The data type of ROI is: <class 'int'>\n"
     ]
    }
   ],
   "source": [
    "PA = 100   # initialize\n",
    "PA = float(PA) # change type\n",
    "print (\"The principal amount is:\", PA)\n",
    "\n",
    "roi = 10.5\n",
    "print (\"The data type of ROI is:\", type(roi))\n",
    "\n",
    "years = 2\n",
    "print (\"The data type of ROI is:\", type(years))"
   ]
  },
  {
   "cell_type": "markdown",
   "metadata": {},
   "source": [
    "### Hands-on 3 exercise\n",
    "\n",
    "**Write a program that calculates the interest accrued over the specified no. of years on a principal amount.**\n",
    "\n",
    "*See original notebook for formula*"
   ]
  },
  {
   "cell_type": "code",
   "execution_count": 6,
   "metadata": {},
   "outputs": [
    {
     "name": "stdout",
     "output_type": "stream",
     "text": [
      "Total amount =  122.1025\n",
      "\n",
      "Interest = 22.10\n"
     ]
    }
   ],
   "source": [
    "PA = 100\n",
    "roi = 10.5\n",
    "years = 2\n",
    "\n",
    "total = (PA * ((1 + (roi/100)) ** years))\n",
    "interest = total - PA\n",
    "print(\"Total amount = \", total)\n",
    "print('\\nInterest = %0.2f' %interest)"
   ]
  },
  {
   "cell_type": "markdown",
   "metadata": {},
   "source": [
    "### Hands-on 4 exercise\n",
    "\n",
    "**Correcting a set of strings**\n",
    "\n",
    "You are given a number of strings, using the string operations, perform the following changes -\n",
    "1. Capitalize str1\n",
    "2. Correct the date to today's date in str2\n",
    "3. Remove the trailing unrequired white spaces in str3, as well as the repeated last word\n",
    "4. Concatenate the 3 strings and print"
   ]
  },
  {
   "cell_type": "code",
   "execution_count": 7,
   "metadata": {},
   "outputs": [
    {
     "name": "stdout",
     "output_type": "stream",
     "text": [
      "Good morning.\n",
      "Today's date is 5th October, 2018.\n",
      "This is an Introduction to Python.\n"
     ]
    }
   ],
   "source": [
    "str1 = \"good morning.\\n\"\n",
    "str2 = \"Today's date is 5th September, 2017.\\n\"\n",
    "str3 = \"This is an Introduction to Python.python     \"\n",
    "\n",
    "str1 = str1.capitalize()\n",
    "str2 = str2.replace('September', 'October')\n",
    "str2 = str2.replace('2017', '2018')\n",
    "str3 = str3.strip()\n",
    "str3 = str3[:-6]\n",
    "print (str1+str2+str3) # use replace method to print"
   ]
  },
  {
   "cell_type": "markdown",
   "metadata": {},
   "source": [
    "### Hands-on 5 exercise\n",
    "\n",
    "**Change the roi based on total amount calculated**\n",
    "\n",
    "* If total > 120, change roi to 15%\n",
    "* Else if total > 110, change roi to 12%\n",
    "* Else change roi to 10%\n",
    "* Print the roi"
   ]
  },
  {
   "cell_type": "code",
   "execution_count": 8,
   "metadata": {},
   "outputs": [
    {
     "name": "stdout",
     "output_type": "stream",
     "text": [
      "New Rate of Interest is: 15 %\n"
     ]
    }
   ],
   "source": [
    "if total>120:\n",
    "    roi = 15\n",
    "elif total>110:\n",
    "    roi = 12\n",
    "else:\n",
    "    roi = 10\n",
    "    \n",
    "print (\"New Rate of Interest is: {} %\".format(roi))"
   ]
  },
  {
   "cell_type": "markdown",
   "metadata": {},
   "source": [
    "### Hands-on 6 exercise\n",
    "\n",
    "**Double the roi every year for 5 years**\n",
    "\n",
    "* Given a hypothetical scenario where the bank asks to double the roi every year after 2, until 5 years. Use for loop and the method range and print the roi against the years.\n",
    "* Reinitialize roi to 10 %"
   ]
  },
  {
   "cell_type": "code",
   "execution_count": 9,
   "metadata": {},
   "outputs": [
    {
     "name": "stdout",
     "output_type": "stream",
     "text": [
      "For numbers of years = 3 , Rate of Interest is = 20%\n",
      "For numbers of years = 4 , Rate of Interest is = 40%\n",
      "For numbers of years = 5 , Rate of Interest is = 80%\n"
     ]
    }
   ],
   "source": [
    "roi = 10\n",
    "\n",
    "for years in range(3,6):\n",
    "    roi = roi*2\n",
    "    print (\"For numbers of years = {} , Rate of Interest is = {}%\".format(years,roi))"
   ]
  },
  {
   "cell_type": "markdown",
   "metadata": {},
   "source": [
    "### Hands-on 7 exercise\n",
    "\n",
    "**Double the roi every year for 5 years**\n",
    "\n",
    "* Given a hypothetical scenario where the bank asks to double the roi every year after 2, until 5 years. Use while loop instead.\n",
    "* Reinitialize roi to 10 %"
   ]
  },
  {
   "cell_type": "code",
   "execution_count": 10,
   "metadata": {},
   "outputs": [
    {
     "name": "stdout",
     "output_type": "stream",
     "text": [
      "For numbers of years = 3 , Rate of Interest is = 20%\n",
      "For numbers of years = 4 , Rate of Interest is = 40%\n",
      "For numbers of years = 5 , Rate of Interest is = 80%\n"
     ]
    }
   ],
   "source": [
    "roi = 10\n",
    "years = 3\n",
    "\n",
    "while years<6:\n",
    "    \n",
    "    roi = roi*2\n",
    "    print (\"For numbers of years = {} , Rate of Interest is = {}%\".format(years,roi))\n",
    "    years += 1"
   ]
  },
  {
   "cell_type": "markdown",
   "metadata": {},
   "source": [
    "### Hands-on 8 exercise\n",
    "\n",
    "**Double the roi every year for 5 years until it crosses 50%**\n",
    "\n",
    "* Given a hypothetical scenario where the bank asks to double the roi every year after 2, until 5 years. Use for or while loop\n",
    "* HOWEVER, stop doubling the roi if it touches 50% (HINT - use Break)\n",
    "* Reinitialize roi to 10 %"
   ]
  },
  {
   "cell_type": "code",
   "execution_count": 11,
   "metadata": {},
   "outputs": [
    {
     "name": "stdout",
     "output_type": "stream",
     "text": [
      "For numbers of years = 3 , Rate of Interest is = 20%\n",
      "For numbers of years = 4 , Rate of Interest is = 40%\n"
     ]
    }
   ],
   "source": [
    "roi = 10\n",
    "\n",
    "for years in range(3,6):\n",
    "    roi = roi*2\n",
    "    if roi>50:\n",
    "        break\n",
    "    print (\"For numbers of years = {} , Rate of Interest is = {}%\".format(years,roi))"
   ]
  },
  {
   "cell_type": "markdown",
   "metadata": {},
   "source": [
    "### Hands-on 9 exercise\n",
    "\n",
    "**Double the roi every year for 5 years, except if it is between 50-75%**\n",
    "\n",
    "* Given a hypothetical scenario where the bank asks to double the roi every year after 2, until 5 years. Use for or while loop\n",
    "* HOWEVER, stop doubling the roi if it touches 50%, but continue after 75% (HINT - use Continue)\n",
    "* Reinitialize roi to 10 %"
   ]
  },
  {
   "cell_type": "code",
   "execution_count": 12,
   "metadata": {},
   "outputs": [
    {
     "name": "stdout",
     "output_type": "stream",
     "text": [
      "For numbers of years = 3 , Rate of Interest is = 20%\n",
      "For numbers of years = 4 , Rate of Interest is = 40%\n",
      "For numbers of years = 5 , Rate of Interest is = 80%\n"
     ]
    }
   ],
   "source": [
    "roi = 10\n",
    "\n",
    "for years in range(3,6):\n",
    "    roi = roi*2\n",
    "    if roi>50 and roi<75:\n",
    "        continue\n",
    "    print (\"For numbers of years = {} , Rate of Interest is = {}%\".format(years,roi))"
   ]
  },
  {
   "cell_type": "markdown",
   "metadata": {},
   "source": [
    "### Hands-on 10 exercise\n",
    "\n",
    "**Write a program to define a function that calculates the simple interest and total amount**\n",
    "\n",
    "*See original notebook for equation*"
   ]
  },
  {
   "cell_type": "code",
   "execution_count": 13,
   "metadata": {},
   "outputs": [
    {
     "name": "stdout",
     "output_type": "stream",
     "text": [
      "The simple interest accrued over 2 years is 20.0 , and the total amount is 120.0\n"
     ]
    }
   ],
   "source": [
    "def simpleInterest(PA, roi, years):\n",
    "    si = PA*roi*years/100\n",
    "    total = PA + si\n",
    "    return si, total\n",
    "\n",
    "PA = 100\n",
    "roi = 10\n",
    "years = 2\n",
    "interest, total = simpleInterest(PA, roi, years)\n",
    "print (\"The simple interest accrued over {} years is {} , and the total amount is {}\".format(years, interest, total))"
   ]
  },
  {
   "cell_type": "markdown",
   "metadata": {},
   "source": [
    "### Hands-on 11 exercise\n",
    "\n",
    "**Write a program to define a class that is constructed by taking the PA, roi and number of years. It has a function that computes simple interest**"
   ]
  },
  {
   "cell_type": "code",
   "execution_count": 16,
   "metadata": {},
   "outputs": [
    {
     "name": "stdout",
     "output_type": "stream",
     "text": [
      "The simple interest accrued over 2 years is 20.0 , and the total amount is 120.0\n"
     ]
    }
   ],
   "source": [
    "class Interest(object):\n",
    "    def __init__(self, PA, roi, years):\n",
    "        self.PA = PA\n",
    "        self.roi = roi\n",
    "        self.years = years \n",
    "\n",
    "    def simpleInterest(self):\n",
    "        si = self.PA*self.roi*self.years/100\n",
    "        total = self.PA + si\n",
    "        return si, total\n",
    "\n",
    "PA = 100\n",
    "roi = 10\n",
    "years = 2\n",
    "int = Interest(PA, roi, years)\n",
    "interest, total = int.simpleInterest()\n",
    "print (\"The simple interest accrued over {} years is {} , and the total amount is {}\".format(years, interest, total))"
   ]
  },
  {
   "cell_type": "markdown",
   "metadata": {},
   "source": [
    "### Hands-on 12 exercise\n"
   ]
  },
  {
   "cell_type": "code",
   "execution_count": 17,
   "metadata": {},
   "outputs": [
    {
     "ename": "NameError",
     "evalue": "name 'i_have_vowels' is not defined",
     "output_type": "error",
     "traceback": [
      "\u001b[0;31m---------------------------------------------------------------------------\u001b[0m",
      "\u001b[0;31mNameError\u001b[0m                                 Traceback (most recent call last)",
      "\u001b[0;32m<ipython-input-17-b485593e80c7>\u001b[0m in \u001b[0;36m<module>\u001b[0;34m\u001b[0m\n\u001b[1;32m      6\u001b[0m \u001b[0;34m\u001b[0m\u001b[0m\n\u001b[1;32m      7\u001b[0m \u001b[0;31m# 12c. Remove all vowels from a string\u001b[0m\u001b[0;34m\u001b[0m\u001b[0;34m\u001b[0m\u001b[0m\n\u001b[0;32m----> 8\u001b[0;31m \u001b[0mno_vowels\u001b[0m \u001b[0;34m=\u001b[0m \u001b[0;34m[\u001b[0m\u001b[0ms\u001b[0m \u001b[0;32mfor\u001b[0m \u001b[0ms\u001b[0m \u001b[0;32min\u001b[0m \u001b[0mi_have_vowels\u001b[0m \u001b[0;32mif\u001b[0m \u001b[0ms\u001b[0m \u001b[0;32mnot\u001b[0m \u001b[0;32min\u001b[0m \u001b[0;34m[\u001b[0m\u001b[0;34m'a'\u001b[0m\u001b[0;34m,\u001b[0m \u001b[0;34m'e'\u001b[0m\u001b[0;34m,\u001b[0m \u001b[0;34m'i'\u001b[0m\u001b[0;34m,\u001b[0m \u001b[0;34m'o'\u001b[0m\u001b[0;34m,\u001b[0m \u001b[0;34m'u'\u001b[0m\u001b[0;34m]\u001b[0m\u001b[0;34m]\u001b[0m\u001b[0;34m\u001b[0m\u001b[0m\n\u001b[0m\u001b[1;32m      9\u001b[0m \u001b[0;34m\u001b[0m\u001b[0m\n\u001b[1;32m     10\u001b[0m \u001b[0;31m# 12d. Use a dictionary comprehension to count the length of each word in a sentence.\u001b[0m\u001b[0;34m\u001b[0m\u001b[0;34m\u001b[0m\u001b[0m\n",
      "\u001b[0;31mNameError\u001b[0m: name 'i_have_vowels' is not defined"
     ]
    }
   ],
   "source": [
    "# 12a. Create a list of odd numbers from 1 to 1000\n",
    "odds = [i for i in range(1000) if i % 2 == 1]\n",
    "\n",
    "# 12b.  Create a list of all the numbers from 1 to 1000 (inclusive) with a 1 in them\n",
    "ones = [i for i in range(1001) if '1' in str(i)]\n",
    "\n",
    "# 12c. Remove all vowels from a string\n",
    "no_vowels = [s for s in i_have_vowels if s not in ['a', 'e', 'i', 'o', 'u']]\n",
    "\n",
    "# 12d. Use a dictionary comprehension to count the length of each word in a sentence.\n",
    "len_dict = {w: len(w) for w in sentence.split()}"
   ]
  },
  {
   "cell_type": "code",
   "execution_count": null,
   "metadata": {},
   "outputs": [],
   "source": []
  }
 ],
 "metadata": {
  "anaconda-cloud": {},
  "kernelspec": {
   "display_name": "Python 3",
   "language": "python",
   "name": "python3"
  },
  "language_info": {
   "codemirror_mode": {
    "name": "ipython",
    "version": 3
   },
   "file_extension": ".py",
   "mimetype": "text/x-python",
   "name": "python",
   "nbconvert_exporter": "python",
   "pygments_lexer": "ipython3",
   "version": "3.6.5"
  }
 },
 "nbformat": 4,
 "nbformat_minor": 2
}
